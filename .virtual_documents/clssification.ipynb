


import numpy as np
import matplotlib.pyplot as plt
import keras
from sklearn.datasets import make_regression
from tensorflow.keras.datasets import fashion_mnist


keras.datasets.fashion_mnist.load_data()


(X_train, y_train), (X_test, y_test) = fashion_mnist.load_data()


X_train.shape


y_train.shape


print(fashion_mnist.load_data.__doc__)


# Hash Table for finding classes of indexes
class_name = {
    0: 'T-shirt/top', 
    1: 'Trouser',
    2: 'Pullover',
    3: 'Dress',
    4: 'Coat',
    5: 'Sandal',
    6: 'Shirt',
    7: 'Sneaker',
    8: 'Bag',
    9: 'Ankle boot', 
}


plt.imshow(X_train[9], cmap='gray') # cmap can render the photo with filters
plt.show()


class_name[y_train[0]]


# Normalization
X_train = X_train / 255 
X_test = X_test / 255


X_train.max()





y_test


from keras.utils import to_categorical


y_train = to_categorical(y_train, num_classes=10)
y_test = to_categorical(y_test, num_classes=10)


y_train.shape


y_test.shape


from keras.layers import Dense, Input, Flatten
from keras.models import Sequential


model = Sequential()
model.add(Input((28, 28)))
model.add(Flatten())
model.add(Dense(128, activation='relu'))
model.add(Dense(128, activation='relu'))
model.add(Dense(10, activation='softmax'))


model.summary()


import tensorflow as tf


loss = tf.losses.MeanSquaredError()
opt = tf.optimizers.Adam()
metric = tf.metrics.CategoricalAccuracy() # metric for accurace 
model.compile(loss = loss, optimizer = opt, metrics = [metric]) 


model.fit(X_train, y_train, validation_split=0.2, epochs=50, batch_size=50)



