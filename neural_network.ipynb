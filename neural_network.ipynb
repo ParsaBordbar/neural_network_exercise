{
 "cells": [
  {
   "cell_type": "code",
   "execution_count": 87,
   "id": "fa84950c-d09f-4488-9c82-e48ad173277a",
   "metadata": {},
   "outputs": [
    {
     "ename": "NameError",
     "evalue": "name 'Regression' is not defined",
     "output_type": "error",
     "traceback": [
      "\u001b[0;31m---------------------------------------------------------------------------\u001b[0m",
      "\u001b[0;31mNameError\u001b[0m                                 Traceback (most recent call last)",
      "Cell \u001b[0;32mIn[87], line 1\u001b[0m\n\u001b[0;32m----> 1\u001b[0m \u001b[43mRegression\u001b[49m\n",
      "\u001b[0;31mNameError\u001b[0m: name 'Regression' is not defined"
     ]
    }
   ],
   "source": [
    "Regression"
   ]
  },
  {
   "cell_type": "code",
   "execution_count": 8,
   "id": "3d3ce375-a6a4-4f5b-8211-74b882b5f72f",
   "metadata": {},
   "outputs": [],
   "source": [
    "import numpy as np\n",
    "import matplotlib.pyplot as plt\n",
    "from sklearn.datasets import make_regression"
   ]
  },
  {
   "cell_type": "code",
   "execution_count": 14,
   "id": "e26ed138-ae5b-4356-bdd8-d9df0c588a47",
   "metadata": {},
   "outputs": [
    {
     "data": {
      "text/plain": [
       "(1000, 5)"
      ]
     },
     "execution_count": 14,
     "metadata": {},
     "output_type": "execute_result"
    }
   ],
   "source": [
    "data = make_regression(n_samples=1000, n_features=5, noise=0.2, random_state=42)\n",
    "data[0].shape"
   ]
  },
  {
   "cell_type": "code",
   "execution_count": 19,
   "id": "9b2c5315-cb6c-4ea1-a020-73fb4f116860",
   "metadata": {},
   "outputs": [],
   "source": [
    "X = data[0] # This is our input valules"
   ]
  },
  {
   "cell_type": "code",
   "execution_count": 28,
   "id": "2a24380b-4c37-44c1-8ac2-623219e31fde",
   "metadata": {},
   "outputs": [
    {
     "data": {
      "text/plain": [
       "array([ 2.13685019,  0.59941972,  0.48200818, -1.17746225,  0.42508706])"
      ]
     },
     "execution_count": 28,
     "metadata": {},
     "output_type": "execute_result"
    }
   ],
   "source": [
    "X[0] # This is our First sample"
   ]
  },
  {
   "cell_type": "code",
   "execution_count": 20,
   "id": "6f08e62f-91b2-4112-b054-94aeb2e5e383",
   "metadata": {},
   "outputs": [],
   "source": [
    "y = data[1]"
   ]
  },
  {
   "cell_type": "code",
   "execution_count": 21,
   "id": "e0463f70-fe37-4ba5-938e-1a447918743a",
   "metadata": {},
   "outputs": [
    {
     "data": {
      "text/plain": [
       "np.float64(74.8638525346159)"
      ]
     },
     "execution_count": 21,
     "metadata": {},
     "output_type": "execute_result"
    }
   ],
   "source": [
    "y[0]"
   ]
  },
  {
   "cell_type": "code",
   "execution_count": 15,
   "id": "6f150e6a-4574-4c5a-bf49-e6d63c31159e",
   "metadata": {},
   "outputs": [],
   "source": [
    "from sklearn.preprocessing import StandardScaler #Scales the data"
   ]
  },
  {
   "cell_type": "code",
   "execution_count": 22,
   "id": "f2cc3826-52ab-4335-a183-14aef1b157d5",
   "metadata": {},
   "outputs": [],
   "source": [
    "scaler = StandardScaler() \n",
    "X = scaler.fit_transform(X) # Both fit and transform at the same time we could do this after spliting of test and training sets "
   ]
  },
  {
   "cell_type": "code",
   "execution_count": 24,
   "id": "c9afe821-1408-48b1-9490-337ba0ebf729",
   "metadata": {},
   "outputs": [],
   "source": [
    "from sklearn.model_selection import train_test_split"
   ]
  },
  {
   "cell_type": "code",
   "execution_count": 25,
   "id": "98eae9ba-acd2-40d4-938d-51a639ff3ae3",
   "metadata": {},
   "outputs": [],
   "source": [
    "X_train, X_test, y_train, y_test = train_test_split(X, y, test_size=0.2)"
   ]
  },
  {
   "cell_type": "code",
   "execution_count": 27,
   "id": "ca8148a9-4ec2-49bf-9617-66112b22be4f",
   "metadata": {},
   "outputs": [
    {
     "data": {
      "text/plain": [
       "(800, 5)"
      ]
     },
     "execution_count": 27,
     "metadata": {},
     "output_type": "execute_result"
    }
   ],
   "source": [
    "X_train.shape"
   ]
  },
  {
   "cell_type": "code",
   "execution_count": 26,
   "id": "a2c4c880-3f08-42bd-a979-37f0d7b7188c",
   "metadata": {},
   "outputs": [
    {
     "data": {
      "text/plain": [
       "(800,)"
      ]
     },
     "execution_count": 26,
     "metadata": {},
     "output_type": "execute_result"
    }
   ],
   "source": [
    "y_train.shape"
   ]
  },
  {
   "cell_type": "code",
   "execution_count": 29,
   "id": "3b27ccb9-e85b-4e8d-91dc-e74404e4fc2d",
   "metadata": {},
   "outputs": [
    {
     "name": "stderr",
     "output_type": "stream",
     "text": [
      "2025-01-23 11:45:17.097897: I external/local_xla/xla/tsl/cuda/cudart_stub.cc:32] Could not find cuda drivers on your machine, GPU will not be used.\n",
      "2025-01-23 11:45:17.100846: I external/local_xla/xla/tsl/cuda/cudart_stub.cc:32] Could not find cuda drivers on your machine, GPU will not be used.\n",
      "2025-01-23 11:45:17.110007: E external/local_xla/xla/stream_executor/cuda/cuda_fft.cc:477] Unable to register cuFFT factory: Attempting to register factory for plugin cuFFT when one has already been registered\n",
      "WARNING: All log messages before absl::InitializeLog() is called are written to STDERR\n",
      "E0000 00:00:1737620117.124849    7066 cuda_dnn.cc:8310] Unable to register cuDNN factory: Attempting to register factory for plugin cuDNN when one has already been registered\n",
      "E0000 00:00:1737620117.129266    7066 cuda_blas.cc:1418] Unable to register cuBLAS factory: Attempting to register factory for plugin cuBLAS when one has already been registered\n",
      "2025-01-23 11:45:17.144336: I tensorflow/core/platform/cpu_feature_guard.cc:210] This TensorFlow binary is optimized to use available CPU instructions in performance-critical operations.\n",
      "To enable the following instructions: AVX2 FMA, in other operations, rebuild TensorFlow with the appropriate compiler flags.\n"
     ]
    }
   ],
   "source": [
    "import tensorflow as tf"
   ]
  },
  {
   "cell_type": "code",
   "execution_count": 39,
   "id": "1cdb1b4c-2a3f-4f60-becb-510cae97268b",
   "metadata": {},
   "outputs": [],
   "source": [
    "model = tf.keras.models.Sequential(\n",
    "    [   \n",
    "        tf.keras.layers.Input(shape = (5, )), # Input layer\n",
    "        tf.keras.layers.Dense(units = 16, activation = 'relu'), # Fully connted units -> neural number\n",
    "        tf.keras.layers.Dense(units = 16, activation = 'relu'),\n",
    "        tf.keras.layers.Dense(units = 1, activation = 'linear'), # Output layer\n",
    "    ]\n",
    ")"
   ]
  },
  {
   "cell_type": "code",
   "execution_count": 40,
   "id": "0b373994-fbf8-414b-9ab5-a30612ad48fa",
   "metadata": {},
   "outputs": [
    {
     "data": {
      "text/html": [
       "<pre style=\"white-space:pre;overflow-x:auto;line-height:normal;font-family:Menlo,'DejaVu Sans Mono',consolas,'Courier New',monospace\"><span style=\"font-weight: bold\">Model: \"sequential_3\"</span>\n",
       "</pre>\n"
      ],
      "text/plain": [
       "\u001b[1mModel: \"sequential_3\"\u001b[0m\n"
      ]
     },
     "metadata": {},
     "output_type": "display_data"
    },
    {
     "data": {
      "text/html": [
       "<pre style=\"white-space:pre;overflow-x:auto;line-height:normal;font-family:Menlo,'DejaVu Sans Mono',consolas,'Courier New',monospace\">┏━━━━━━━━━━━━━━━━━━━━━━━━━━━━━━━━━┳━━━━━━━━━━━━━━━━━━━━━━━━┳━━━━━━━━━━━━━━━┓\n",
       "┃<span style=\"font-weight: bold\"> Layer (type)                    </span>┃<span style=\"font-weight: bold\"> Output Shape           </span>┃<span style=\"font-weight: bold\">       Param # </span>┃\n",
       "┡━━━━━━━━━━━━━━━━━━━━━━━━━━━━━━━━━╇━━━━━━━━━━━━━━━━━━━━━━━━╇━━━━━━━━━━━━━━━┩\n",
       "│ dense_5 (<span style=\"color: #0087ff; text-decoration-color: #0087ff\">Dense</span>)                 │ (<span style=\"color: #00d7ff; text-decoration-color: #00d7ff\">None</span>, <span style=\"color: #00af00; text-decoration-color: #00af00\">16</span>)             │            <span style=\"color: #00af00; text-decoration-color: #00af00\">96</span> │\n",
       "├─────────────────────────────────┼────────────────────────┼───────────────┤\n",
       "│ dense_6 (<span style=\"color: #0087ff; text-decoration-color: #0087ff\">Dense</span>)                 │ (<span style=\"color: #00d7ff; text-decoration-color: #00d7ff\">None</span>, <span style=\"color: #00af00; text-decoration-color: #00af00\">16</span>)             │           <span style=\"color: #00af00; text-decoration-color: #00af00\">272</span> │\n",
       "├─────────────────────────────────┼────────────────────────┼───────────────┤\n",
       "│ dense_7 (<span style=\"color: #0087ff; text-decoration-color: #0087ff\">Dense</span>)                 │ (<span style=\"color: #00d7ff; text-decoration-color: #00d7ff\">None</span>, <span style=\"color: #00af00; text-decoration-color: #00af00\">1</span>)              │            <span style=\"color: #00af00; text-decoration-color: #00af00\">17</span> │\n",
       "└─────────────────────────────────┴────────────────────────┴───────────────┘\n",
       "</pre>\n"
      ],
      "text/plain": [
       "┏━━━━━━━━━━━━━━━━━━━━━━━━━━━━━━━━━┳━━━━━━━━━━━━━━━━━━━━━━━━┳━━━━━━━━━━━━━━━┓\n",
       "┃\u001b[1m \u001b[0m\u001b[1mLayer (type)                   \u001b[0m\u001b[1m \u001b[0m┃\u001b[1m \u001b[0m\u001b[1mOutput Shape          \u001b[0m\u001b[1m \u001b[0m┃\u001b[1m \u001b[0m\u001b[1m      Param #\u001b[0m\u001b[1m \u001b[0m┃\n",
       "┡━━━━━━━━━━━━━━━━━━━━━━━━━━━━━━━━━╇━━━━━━━━━━━━━━━━━━━━━━━━╇━━━━━━━━━━━━━━━┩\n",
       "│ dense_5 (\u001b[38;5;33mDense\u001b[0m)                 │ (\u001b[38;5;45mNone\u001b[0m, \u001b[38;5;34m16\u001b[0m)             │            \u001b[38;5;34m96\u001b[0m │\n",
       "├─────────────────────────────────┼────────────────────────┼───────────────┤\n",
       "│ dense_6 (\u001b[38;5;33mDense\u001b[0m)                 │ (\u001b[38;5;45mNone\u001b[0m, \u001b[38;5;34m16\u001b[0m)             │           \u001b[38;5;34m272\u001b[0m │\n",
       "├─────────────────────────────────┼────────────────────────┼───────────────┤\n",
       "│ dense_7 (\u001b[38;5;33mDense\u001b[0m)                 │ (\u001b[38;5;45mNone\u001b[0m, \u001b[38;5;34m1\u001b[0m)              │            \u001b[38;5;34m17\u001b[0m │\n",
       "└─────────────────────────────────┴────────────────────────┴───────────────┘\n"
      ]
     },
     "metadata": {},
     "output_type": "display_data"
    },
    {
     "data": {
      "text/html": [
       "<pre style=\"white-space:pre;overflow-x:auto;line-height:normal;font-family:Menlo,'DejaVu Sans Mono',consolas,'Courier New',monospace\"><span style=\"font-weight: bold\"> Total params: </span><span style=\"color: #00af00; text-decoration-color: #00af00\">385</span> (1.50 KB)\n",
       "</pre>\n"
      ],
      "text/plain": [
       "\u001b[1m Total params: \u001b[0m\u001b[38;5;34m385\u001b[0m (1.50 KB)\n"
      ]
     },
     "metadata": {},
     "output_type": "display_data"
    },
    {
     "data": {
      "text/html": [
       "<pre style=\"white-space:pre;overflow-x:auto;line-height:normal;font-family:Menlo,'DejaVu Sans Mono',consolas,'Courier New',monospace\"><span style=\"font-weight: bold\"> Trainable params: </span><span style=\"color: #00af00; text-decoration-color: #00af00\">385</span> (1.50 KB)\n",
       "</pre>\n"
      ],
      "text/plain": [
       "\u001b[1m Trainable params: \u001b[0m\u001b[38;5;34m385\u001b[0m (1.50 KB)\n"
      ]
     },
     "metadata": {},
     "output_type": "display_data"
    },
    {
     "data": {
      "text/html": [
       "<pre style=\"white-space:pre;overflow-x:auto;line-height:normal;font-family:Menlo,'DejaVu Sans Mono',consolas,'Courier New',monospace\"><span style=\"font-weight: bold\"> Non-trainable params: </span><span style=\"color: #00af00; text-decoration-color: #00af00\">0</span> (0.00 B)\n",
       "</pre>\n"
      ],
      "text/plain": [
       "\u001b[1m Non-trainable params: \u001b[0m\u001b[38;5;34m0\u001b[0m (0.00 B)\n"
      ]
     },
     "metadata": {},
     "output_type": "display_data"
    }
   ],
   "source": [
    "model.summary()"
   ]
  },
  {
   "cell_type": "code",
   "execution_count": 76,
   "id": "88e1922e-9762-4a34-94fc-16eba0626e24",
   "metadata": {},
   "outputs": [],
   "source": [
    "model = tf.keras.Sequential()\n",
    "model.add(tf.keras.layers.Input(shape = (5, )))\n",
    "model.add(tf.keras.layers.Dense(units = 16, activation = 'relu'))\n",
    "model.add(tf.keras.layers.Dense(units = 16, activation = 'relu'))\n",
    "model.add(tf.keras.layers.Dense(units = 1, activation = 'linear'))"
   ]
  },
  {
   "cell_type": "code",
   "execution_count": 77,
   "id": "c93cee55-c2ad-4dff-a5a3-945e9cf2efb0",
   "metadata": {},
   "outputs": [
    {
     "data": {
      "text/html": [
       "<pre style=\"white-space:pre;overflow-x:auto;line-height:normal;font-family:Menlo,'DejaVu Sans Mono',consolas,'Courier New',monospace\"><span style=\"font-weight: bold\">Model: \"sequential_7\"</span>\n",
       "</pre>\n"
      ],
      "text/plain": [
       "\u001b[1mModel: \"sequential_7\"\u001b[0m\n"
      ]
     },
     "metadata": {},
     "output_type": "display_data"
    },
    {
     "data": {
      "text/html": [
       "<pre style=\"white-space:pre;overflow-x:auto;line-height:normal;font-family:Menlo,'DejaVu Sans Mono',consolas,'Courier New',monospace\">┏━━━━━━━━━━━━━━━━━━━━━━━━━━━━━━━━━┳━━━━━━━━━━━━━━━━━━━━━━━━┳━━━━━━━━━━━━━━━┓\n",
       "┃<span style=\"font-weight: bold\"> Layer (type)                    </span>┃<span style=\"font-weight: bold\"> Output Shape           </span>┃<span style=\"font-weight: bold\">       Param # </span>┃\n",
       "┡━━━━━━━━━━━━━━━━━━━━━━━━━━━━━━━━━╇━━━━━━━━━━━━━━━━━━━━━━━━╇━━━━━━━━━━━━━━━┩\n",
       "│ dense_14 (<span style=\"color: #0087ff; text-decoration-color: #0087ff\">Dense</span>)                │ (<span style=\"color: #00d7ff; text-decoration-color: #00d7ff\">None</span>, <span style=\"color: #00af00; text-decoration-color: #00af00\">16</span>)             │            <span style=\"color: #00af00; text-decoration-color: #00af00\">96</span> │\n",
       "├─────────────────────────────────┼────────────────────────┼───────────────┤\n",
       "│ dense_15 (<span style=\"color: #0087ff; text-decoration-color: #0087ff\">Dense</span>)                │ (<span style=\"color: #00d7ff; text-decoration-color: #00d7ff\">None</span>, <span style=\"color: #00af00; text-decoration-color: #00af00\">16</span>)             │           <span style=\"color: #00af00; text-decoration-color: #00af00\">272</span> │\n",
       "├─────────────────────────────────┼────────────────────────┼───────────────┤\n",
       "│ dense_16 (<span style=\"color: #0087ff; text-decoration-color: #0087ff\">Dense</span>)                │ (<span style=\"color: #00d7ff; text-decoration-color: #00d7ff\">None</span>, <span style=\"color: #00af00; text-decoration-color: #00af00\">1</span>)              │            <span style=\"color: #00af00; text-decoration-color: #00af00\">17</span> │\n",
       "└─────────────────────────────────┴────────────────────────┴───────────────┘\n",
       "</pre>\n"
      ],
      "text/plain": [
       "┏━━━━━━━━━━━━━━━━━━━━━━━━━━━━━━━━━┳━━━━━━━━━━━━━━━━━━━━━━━━┳━━━━━━━━━━━━━━━┓\n",
       "┃\u001b[1m \u001b[0m\u001b[1mLayer (type)                   \u001b[0m\u001b[1m \u001b[0m┃\u001b[1m \u001b[0m\u001b[1mOutput Shape          \u001b[0m\u001b[1m \u001b[0m┃\u001b[1m \u001b[0m\u001b[1m      Param #\u001b[0m\u001b[1m \u001b[0m┃\n",
       "┡━━━━━━━━━━━━━━━━━━━━━━━━━━━━━━━━━╇━━━━━━━━━━━━━━━━━━━━━━━━╇━━━━━━━━━━━━━━━┩\n",
       "│ dense_14 (\u001b[38;5;33mDense\u001b[0m)                │ (\u001b[38;5;45mNone\u001b[0m, \u001b[38;5;34m16\u001b[0m)             │            \u001b[38;5;34m96\u001b[0m │\n",
       "├─────────────────────────────────┼────────────────────────┼───────────────┤\n",
       "│ dense_15 (\u001b[38;5;33mDense\u001b[0m)                │ (\u001b[38;5;45mNone\u001b[0m, \u001b[38;5;34m16\u001b[0m)             │           \u001b[38;5;34m272\u001b[0m │\n",
       "├─────────────────────────────────┼────────────────────────┼───────────────┤\n",
       "│ dense_16 (\u001b[38;5;33mDense\u001b[0m)                │ (\u001b[38;5;45mNone\u001b[0m, \u001b[38;5;34m1\u001b[0m)              │            \u001b[38;5;34m17\u001b[0m │\n",
       "└─────────────────────────────────┴────────────────────────┴───────────────┘\n"
      ]
     },
     "metadata": {},
     "output_type": "display_data"
    },
    {
     "data": {
      "text/html": [
       "<pre style=\"white-space:pre;overflow-x:auto;line-height:normal;font-family:Menlo,'DejaVu Sans Mono',consolas,'Courier New',monospace\"><span style=\"font-weight: bold\"> Total params: </span><span style=\"color: #00af00; text-decoration-color: #00af00\">385</span> (1.50 KB)\n",
       "</pre>\n"
      ],
      "text/plain": [
       "\u001b[1m Total params: \u001b[0m\u001b[38;5;34m385\u001b[0m (1.50 KB)\n"
      ]
     },
     "metadata": {},
     "output_type": "display_data"
    },
    {
     "data": {
      "text/html": [
       "<pre style=\"white-space:pre;overflow-x:auto;line-height:normal;font-family:Menlo,'DejaVu Sans Mono',consolas,'Courier New',monospace\"><span style=\"font-weight: bold\"> Trainable params: </span><span style=\"color: #00af00; text-decoration-color: #00af00\">385</span> (1.50 KB)\n",
       "</pre>\n"
      ],
      "text/plain": [
       "\u001b[1m Trainable params: \u001b[0m\u001b[38;5;34m385\u001b[0m (1.50 KB)\n"
      ]
     },
     "metadata": {},
     "output_type": "display_data"
    },
    {
     "data": {
      "text/html": [
       "<pre style=\"white-space:pre;overflow-x:auto;line-height:normal;font-family:Menlo,'DejaVu Sans Mono',consolas,'Courier New',monospace\"><span style=\"font-weight: bold\"> Non-trainable params: </span><span style=\"color: #00af00; text-decoration-color: #00af00\">0</span> (0.00 B)\n",
       "</pre>\n"
      ],
      "text/plain": [
       "\u001b[1m Non-trainable params: \u001b[0m\u001b[38;5;34m0\u001b[0m (0.00 B)\n"
      ]
     },
     "metadata": {},
     "output_type": "display_data"
    }
   ],
   "source": [
    "model.summary()"
   ]
  },
  {
   "cell_type": "code",
   "execution_count": 78,
   "id": "2b8b36a9-d5c5-46cd-967b-0839b2ec41e0",
   "metadata": {},
   "outputs": [],
   "source": [
    "#ALSO CAN USE: from tensorflow.keras.layers import Desnse, Dropout"
   ]
  },
  {
   "cell_type": "code",
   "execution_count": 79,
   "id": "e167b3df-0142-4530-bcc8-d95768e09c4a",
   "metadata": {},
   "outputs": [],
   "source": [
    "loss= tf.losses.MeanSquaredError()\n",
    "opt = tf.optimizers.Adam()\n",
    "model.compile(loss = loss, optimizer = opt) "
   ]
  },
  {
   "cell_type": "code",
   "execution_count": 80,
   "id": "2912f3b7-0d1d-4ea3-8721-09f283739467",
   "metadata": {},
   "outputs": [
    {
     "name": "stdout",
     "output_type": "stream",
     "text": [
      "Epoch 1/100\n",
      "15/15 - 1s - 48ms/step - loss: 4196.9888 - val_loss: 3729.7905\n",
      "Epoch 2/100\n",
      "15/15 - 0s - 5ms/step - loss: 4179.4165 - val_loss: 3710.9434\n",
      "Epoch 3/100\n",
      "15/15 - 0s - 5ms/step - loss: 4161.2842 - val_loss: 3691.0215\n",
      "Epoch 4/100\n",
      "15/15 - 0s - 5ms/step - loss: 4140.6621 - val_loss: 3668.2417\n",
      "Epoch 5/100\n",
      "15/15 - 0s - 5ms/step - loss: 4115.0508 - val_loss: 3640.5715\n",
      "Epoch 6/100\n",
      "15/15 - 0s - 5ms/step - loss: 4082.5225 - val_loss: 3606.3347\n",
      "Epoch 7/100\n",
      "15/15 - 0s - 5ms/step - loss: 4044.1655 - val_loss: 3563.6323\n",
      "Epoch 8/100\n",
      "15/15 - 0s - 5ms/step - loss: 3994.2805 - val_loss: 3511.5891\n",
      "Epoch 9/100\n",
      "15/15 - 0s - 5ms/step - loss: 3932.9902 - val_loss: 3447.1460\n",
      "Epoch 10/100\n",
      "15/15 - 0s - 5ms/step - loss: 3858.2576 - val_loss: 3366.7485\n",
      "Epoch 11/100\n",
      "15/15 - 0s - 5ms/step - loss: 3765.1116 - val_loss: 3270.8442\n",
      "Epoch 12/100\n",
      "15/15 - 0s - 5ms/step - loss: 3656.3423 - val_loss: 3157.3708\n",
      "Epoch 13/100\n",
      "15/15 - 0s - 5ms/step - loss: 3529.3008 - val_loss: 3030.6377\n",
      "Epoch 14/100\n",
      "15/15 - 0s - 5ms/step - loss: 3381.3213 - val_loss: 2889.1963\n",
      "Epoch 15/100\n",
      "15/15 - 0s - 5ms/step - loss: 3219.5806 - val_loss: 2728.9624\n",
      "Epoch 16/100\n",
      "15/15 - 0s - 5ms/step - loss: 3032.5896 - val_loss: 2553.9126\n",
      "Epoch 17/100\n",
      "15/15 - 0s - 4ms/step - loss: 2832.7046 - val_loss: 2357.6548\n",
      "Epoch 18/100\n",
      "15/15 - 0s - 5ms/step - loss: 2616.5942 - val_loss: 2152.5171\n",
      "Epoch 19/100\n",
      "15/15 - 0s - 5ms/step - loss: 2389.8862 - val_loss: 1933.0774\n",
      "Epoch 20/100\n",
      "15/15 - 0s - 5ms/step - loss: 2150.3208 - val_loss: 1714.7933\n",
      "Epoch 21/100\n",
      "15/15 - 0s - 5ms/step - loss: 1907.1282 - val_loss: 1497.9961\n",
      "Epoch 22/100\n",
      "15/15 - 0s - 5ms/step - loss: 1670.2285 - val_loss: 1287.0145\n",
      "Epoch 23/100\n",
      "15/15 - 0s - 10ms/step - loss: 1441.4065 - val_loss: 1077.4241\n",
      "Epoch 24/100\n",
      "15/15 - 0s - 5ms/step - loss: 1218.2405 - val_loss: 892.1188\n",
      "Epoch 25/100\n",
      "15/15 - 0s - 5ms/step - loss: 1019.6816 - val_loss: 724.9901\n",
      "Epoch 26/100\n",
      "15/15 - 0s - 5ms/step - loss: 838.3347 - val_loss: 581.0240\n",
      "Epoch 27/100\n",
      "15/15 - 0s - 5ms/step - loss: 680.4909 - val_loss: 460.4956\n",
      "Epoch 28/100\n",
      "15/15 - 0s - 5ms/step - loss: 547.5895 - val_loss: 361.2231\n",
      "Epoch 29/100\n",
      "15/15 - 0s - 5ms/step - loss: 438.8528 - val_loss: 282.3355\n",
      "Epoch 30/100\n",
      "15/15 - 0s - 5ms/step - loss: 350.1892 - val_loss: 221.6298\n",
      "Epoch 31/100\n",
      "15/15 - 0s - 5ms/step - loss: 282.6585 - val_loss: 176.1377\n",
      "Epoch 32/100\n",
      "15/15 - 0s - 5ms/step - loss: 229.2774 - val_loss: 143.1761\n",
      "Epoch 33/100\n",
      "15/15 - 0s - 5ms/step - loss: 189.7735 - val_loss: 119.9289\n",
      "Epoch 34/100\n",
      "15/15 - 0s - 5ms/step - loss: 159.4490 - val_loss: 103.0860\n",
      "Epoch 35/100\n",
      "15/15 - 0s - 5ms/step - loss: 137.2617 - val_loss: 89.9432\n",
      "Epoch 36/100\n",
      "15/15 - 0s - 5ms/step - loss: 120.1131 - val_loss: 79.0143\n",
      "Epoch 37/100\n",
      "15/15 - 0s - 5ms/step - loss: 105.6260 - val_loss: 70.3489\n",
      "Epoch 38/100\n",
      "15/15 - 0s - 5ms/step - loss: 94.6447 - val_loss: 63.2806\n",
      "Epoch 39/100\n",
      "15/15 - 0s - 5ms/step - loss: 85.5697 - val_loss: 57.5492\n",
      "Epoch 40/100\n",
      "15/15 - 0s - 5ms/step - loss: 78.2906 - val_loss: 53.5167\n",
      "Epoch 41/100\n",
      "15/15 - 0s - 5ms/step - loss: 73.0888 - val_loss: 51.1660\n",
      "Epoch 42/100\n",
      "15/15 - 0s - 5ms/step - loss: 69.2230 - val_loss: 50.1870\n",
      "Epoch 43/100\n",
      "15/15 - 0s - 5ms/step - loss: 66.1784 - val_loss: 49.4817\n",
      "Epoch 44/100\n",
      "15/15 - 0s - 5ms/step - loss: 63.3901 - val_loss: 47.9658\n",
      "Epoch 45/100\n",
      "15/15 - 0s - 5ms/step - loss: 61.3565 - val_loss: 47.7510\n",
      "Epoch 46/100\n",
      "15/15 - 0s - 5ms/step - loss: 59.6746 - val_loss: 46.7408\n",
      "Epoch 47/100\n",
      "15/15 - 0s - 5ms/step - loss: 57.9815 - val_loss: 45.5095\n",
      "Epoch 48/100\n",
      "15/15 - 0s - 5ms/step - loss: 56.4932 - val_loss: 45.0830\n",
      "Epoch 49/100\n",
      "15/15 - 0s - 5ms/step - loss: 55.0712 - val_loss: 44.0796\n",
      "Epoch 50/100\n",
      "15/15 - 0s - 6ms/step - loss: 54.0444 - val_loss: 43.5412\n",
      "Epoch 51/100\n",
      "15/15 - 0s - 5ms/step - loss: 53.0452 - val_loss: 43.4313\n",
      "Epoch 52/100\n",
      "15/15 - 0s - 5ms/step - loss: 52.3005 - val_loss: 42.8325\n",
      "Epoch 53/100\n",
      "15/15 - 0s - 5ms/step - loss: 51.6052 - val_loss: 43.0906\n",
      "Epoch 54/100\n",
      "15/15 - 0s - 5ms/step - loss: 50.7287 - val_loss: 42.3468\n",
      "Epoch 55/100\n",
      "15/15 - 0s - 5ms/step - loss: 50.1333 - val_loss: 42.1019\n",
      "Epoch 56/100\n",
      "15/15 - 0s - 4ms/step - loss: 49.5965 - val_loss: 42.0723\n",
      "Epoch 57/100\n",
      "15/15 - 0s - 4ms/step - loss: 48.9165 - val_loss: 41.6259\n",
      "Epoch 58/100\n",
      "15/15 - 0s - 4ms/step - loss: 48.4668 - val_loss: 41.7068\n",
      "Epoch 59/100\n",
      "15/15 - 0s - 4ms/step - loss: 47.9327 - val_loss: 41.4639\n",
      "Epoch 60/100\n",
      "15/15 - 0s - 4ms/step - loss: 47.4940 - val_loss: 41.2686\n",
      "Epoch 61/100\n",
      "15/15 - 0s - 4ms/step - loss: 47.0569 - val_loss: 41.1605\n",
      "Epoch 62/100\n",
      "15/15 - 0s - 5ms/step - loss: 46.6222 - val_loss: 40.8748\n",
      "Epoch 63/100\n",
      "15/15 - 0s - 5ms/step - loss: 46.2172 - val_loss: 40.9689\n",
      "Epoch 64/100\n",
      "15/15 - 0s - 4ms/step - loss: 45.8003 - val_loss: 40.8276\n",
      "Epoch 65/100\n",
      "15/15 - 0s - 4ms/step - loss: 45.3567 - val_loss: 40.6956\n",
      "Epoch 66/100\n",
      "15/15 - 0s - 5ms/step - loss: 45.0649 - val_loss: 40.1350\n",
      "Epoch 67/100\n",
      "15/15 - 0s - 5ms/step - loss: 44.5615 - val_loss: 39.9331\n",
      "Epoch 68/100\n",
      "15/15 - 0s - 5ms/step - loss: 44.2638 - val_loss: 39.5748\n",
      "Epoch 69/100\n",
      "15/15 - 0s - 4ms/step - loss: 43.8668 - val_loss: 39.7301\n",
      "Epoch 70/100\n",
      "15/15 - 0s - 5ms/step - loss: 43.5195 - val_loss: 39.1711\n",
      "Epoch 71/100\n",
      "15/15 - 0s - 5ms/step - loss: 43.2213 - val_loss: 38.7631\n",
      "Epoch 72/100\n",
      "15/15 - 0s - 5ms/step - loss: 42.8413 - val_loss: 38.7832\n",
      "Epoch 73/100\n",
      "15/15 - 0s - 5ms/step - loss: 42.4014 - val_loss: 38.1322\n",
      "Epoch 74/100\n",
      "15/15 - 0s - 4ms/step - loss: 42.0266 - val_loss: 37.9431\n",
      "Epoch 75/100\n",
      "15/15 - 0s - 5ms/step - loss: 41.7273 - val_loss: 37.7976\n",
      "Epoch 76/100\n",
      "15/15 - 0s - 4ms/step - loss: 41.3109 - val_loss: 37.6073\n",
      "Epoch 77/100\n",
      "15/15 - 0s - 5ms/step - loss: 41.0252 - val_loss: 37.4092\n",
      "Epoch 78/100\n",
      "15/15 - 0s - 5ms/step - loss: 40.7025 - val_loss: 37.0830\n",
      "Epoch 79/100\n",
      "15/15 - 0s - 5ms/step - loss: 40.3755 - val_loss: 36.7614\n",
      "Epoch 80/100\n",
      "15/15 - 0s - 4ms/step - loss: 40.1442 - val_loss: 36.2926\n",
      "Epoch 81/100\n",
      "15/15 - 0s - 5ms/step - loss: 39.7211 - val_loss: 36.3552\n",
      "Epoch 82/100\n",
      "15/15 - 0s - 5ms/step - loss: 39.3372 - val_loss: 35.8814\n",
      "Epoch 83/100\n",
      "15/15 - 0s - 5ms/step - loss: 39.0291 - val_loss: 35.8039\n",
      "Epoch 84/100\n",
      "15/15 - 0s - 5ms/step - loss: 38.6723 - val_loss: 35.5029\n",
      "Epoch 85/100\n",
      "15/15 - 0s - 4ms/step - loss: 38.3012 - val_loss: 35.1106\n",
      "Epoch 86/100\n",
      "15/15 - 0s - 4ms/step - loss: 38.0603 - val_loss: 34.8825\n",
      "Epoch 87/100\n",
      "15/15 - 0s - 4ms/step - loss: 37.7809 - val_loss: 34.3446\n",
      "Epoch 88/100\n",
      "15/15 - 0s - 4ms/step - loss: 37.3790 - val_loss: 34.4345\n",
      "Epoch 89/100\n",
      "15/15 - 0s - 5ms/step - loss: 36.9446 - val_loss: 33.8129\n",
      "Epoch 90/100\n",
      "15/15 - 0s - 5ms/step - loss: 36.6324 - val_loss: 33.5833\n",
      "Epoch 91/100\n",
      "15/15 - 0s - 5ms/step - loss: 36.3308 - val_loss: 33.2796\n",
      "Epoch 92/100\n",
      "15/15 - 0s - 5ms/step - loss: 35.9864 - val_loss: 33.0080\n",
      "Epoch 93/100\n",
      "15/15 - 0s - 5ms/step - loss: 35.6989 - val_loss: 32.7800\n",
      "Epoch 94/100\n",
      "15/15 - 0s - 4ms/step - loss: 35.2570 - val_loss: 32.4463\n",
      "Epoch 95/100\n",
      "15/15 - 0s - 5ms/step - loss: 34.9057 - val_loss: 32.3363\n",
      "Epoch 96/100\n",
      "15/15 - 0s - 5ms/step - loss: 34.6078 - val_loss: 31.8676\n",
      "Epoch 97/100\n",
      "15/15 - 0s - 6ms/step - loss: 34.3730 - val_loss: 31.7297\n",
      "Epoch 98/100\n",
      "15/15 - 0s - 5ms/step - loss: 33.8213 - val_loss: 31.1674\n",
      "Epoch 99/100\n",
      "15/15 - 0s - 5ms/step - loss: 33.5601 - val_loss: 30.8242\n",
      "Epoch 100/100\n",
      "15/15 - 0s - 5ms/step - loss: 33.4308 - val_loss: 30.7794\n"
     ]
    },
    {
     "data": {
      "text/plain": [
       "<keras.src.callbacks.history.History at 0x7ff92c3935b0>"
      ]
     },
     "execution_count": 80,
     "metadata": {},
     "output_type": "execute_result"
    }
   ],
   "source": [
    "model.fit(X_train, y_train, validation_split = 0.1, epochs = 100, batch_size = 50, verbose = 2) \n",
    "# epoches how many times uses loss for the data and optimizer"
   ]
  },
  {
   "cell_type": "code",
   "execution_count": 81,
   "id": "fce52d18-646c-4bb5-9a0a-694f47e0e6b1",
   "metadata": {},
   "outputs": [
    {
     "name": "stdout",
     "output_type": "stream",
     "text": [
      "\u001b[1m25/25\u001b[0m \u001b[32m━━━━━━━━━━━━━━━━━━━━\u001b[0m\u001b[37m\u001b[0m \u001b[1m0s\u001b[0m 2ms/step - loss: 34.8292 \n"
     ]
    },
    {
     "data": {
      "text/plain": [
       "32.722129821777344"
      ]
     },
     "execution_count": 81,
     "metadata": {},
     "output_type": "execute_result"
    }
   ],
   "source": [
    "model.evaluate(X_train, y_train)"
   ]
  },
  {
   "cell_type": "code",
   "execution_count": 82,
   "id": "acac04d5-b82e-40ba-9f85-687cea302aa0",
   "metadata": {},
   "outputs": [
    {
     "name": "stdout",
     "output_type": "stream",
     "text": [
      "\u001b[1m7/7\u001b[0m \u001b[32m━━━━━━━━━━━━━━━━━━━━\u001b[0m\u001b[37m\u001b[0m \u001b[1m0s\u001b[0m 4ms/step - loss: 38.3567 \n"
     ]
    },
    {
     "data": {
      "text/plain": [
       "35.8964729309082"
      ]
     },
     "execution_count": 82,
     "metadata": {},
     "output_type": "execute_result"
    }
   ],
   "source": [
    "model.evaluate(X_test, y_test)"
   ]
  },
  {
   "cell_type": "code",
   "execution_count": 83,
   "id": "b041541d-3567-4d54-a733-7b5ec29fd352",
   "metadata": {},
   "outputs": [
    {
     "name": "stdout",
     "output_type": "stream",
     "text": [
      "\u001b[1m7/7\u001b[0m \u001b[32m━━━━━━━━━━━━━━━━━━━━\u001b[0m\u001b[37m\u001b[0m \u001b[1m0s\u001b[0m 7ms/step \n"
     ]
    }
   ],
   "source": [
    "y_pred = model.predict(X_test)"
   ]
  },
  {
   "cell_type": "code",
   "execution_count": 84,
   "id": "85994b3b-4771-4bc2-8d39-c1fa9cbad3f8",
   "metadata": {},
   "outputs": [
    {
     "data": {
      "text/plain": [
       "(200, 1)"
      ]
     },
     "execution_count": 84,
     "metadata": {},
     "output_type": "execute_result"
    }
   ],
   "source": [
    "y_pred.shape "
   ]
  },
  {
   "cell_type": "code",
   "execution_count": 85,
   "id": "6aedc8dd-1d8d-4303-8cac-29530527c7c7",
   "metadata": {},
   "outputs": [
    {
     "data": {
      "text/plain": [
       "(200,)"
      ]
     },
     "execution_count": 85,
     "metadata": {},
     "output_type": "execute_result"
    }
   ],
   "source": [
    "y_test.shape"
   ]
  },
  {
   "cell_type": "code",
   "execution_count": 86,
   "id": "d522ceb7-dab0-4016-9de0-fa7667fb097d",
   "metadata": {},
   "outputs": [
    {
     "data": {
      "text/plain": [
       "<matplotlib.collections.PathCollection at 0x7ff92670b7f0>"
      ]
     },
     "execution_count": 86,
     "metadata": {},
     "output_type": "execute_result"
    },
    {
     "data": {
      "image/png": "[encoded data removed]",
      "text/plain": [
       "<Figure size 640x480 with 1 Axes>"
      ]
     },
     "metadata": {},
     "output_type": "display_data"
    }
   ],
   "source": [
    "plt.scatter(y_test, range(200), color = 'blue')\n",
    "plt.scatter(y_pred, range(200), color = 'red')"
   ]
  },
  {
   "cell_type": "code",
   "execution_count": null,
   "id": "236a9991-1933-48c8-ad80-41f43fa621f0",
   "metadata": {},
   "outputs": [],
   "source": []
  }
 ],
 "metadata": {
  "kernelspec": {
   "display_name": "Python 3 (ipykernel)",
   "language": "python",
   "name": "python3"
  },
  "language_info": {
   "codemirror_mode": {
    "name": "ipython",
    "version": 3
   },
   "file_extension": ".py",
   "mimetype": "text/x-python",
   "name": "python",
   "nbconvert_exporter": "python",
   "pygments_lexer": "ipython3",
   "version": "3.10.12"
  }
 },
 "nbformat": 4,
 "nbformat_minor": 5
}
