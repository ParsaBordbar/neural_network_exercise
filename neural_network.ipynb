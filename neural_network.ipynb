{
 "cells": [
  {
   "cell_type": "code",
   "execution_count": 5,
   "id": "fa84950c-d09f-4488-9c82-e48ad173277a",
   "metadata": {},
   "outputs": [],
   "source": [
    "# regression "
   ]
  },
  {
   "cell_type": "code",
   "execution_count": 8,
   "id": "3d3ce375-a6a4-4f5b-8211-74b882b5f72f",
   "metadata": {},
   "outputs": [],
   "source": [
    "import numpy as np\n",
    "import matplotlib.pyplot as plt\n",
    "from sklearn.datasets import make_regression"
   ]
  },
  {
   "cell_type": "code",
   "execution_count": 14,
   "id": "e26ed138-ae5b-4356-bdd8-d9df0c588a47",
   "metadata": {},
   "outputs": [
    {
     "data": {
      "text/plain": [
       "(1000, 5)"
      ]
     },
     "execution_count": 14,
     "metadata": {},
     "output_type": "execute_result"
    }
   ],
   "source": [
    "data = make_regression(n_samples=1000, n_features=5, noise=0.2, random_state=42)\n",
    "data[0].shape"
   ]
  },
  {
   "cell_type": "code",
   "execution_count": 19,
   "id": "9b2c5315-cb6c-4ea1-a020-73fb4f116860",
   "metadata": {},
   "outputs": [],
   "source": [
    "X = data[0] # This is our input valules"
   ]
  },
  {
   "cell_type": "code",
   "execution_count": 28,
   "id": "2a24380b-4c37-44c1-8ac2-623219e31fde",
   "metadata": {},
   "outputs": [
    {
     "data": {
      "text/plain": [
       "array([ 2.13685019,  0.59941972,  0.48200818, -1.17746225,  0.42508706])"
      ]
     },
     "execution_count": 28,
     "metadata": {},
     "output_type": "execute_result"
    }
   ],
   "source": [
    "X[0] # This is our First sample"
   ]
  },
  {
   "cell_type": "code",
   "execution_count": 20,
   "id": "6f08e62f-91b2-4112-b054-94aeb2e5e383",
   "metadata": {},
   "outputs": [],
   "source": [
    "y = data[1]"
   ]
  },
  {
   "cell_type": "code",
   "execution_count": 21,
   "id": "e0463f70-fe37-4ba5-938e-1a447918743a",
   "metadata": {},
   "outputs": [
    {
     "data": {
      "text/plain": [
       "np.float64(74.8638525346159)"
      ]
     },
     "execution_count": 21,
     "metadata": {},
     "output_type": "execute_result"
    }
   ],
   "source": [
    "y[0]"
   ]
  },
  {
   "cell_type": "code",
   "execution_count": 15,
   "id": "6f150e6a-4574-4c5a-bf49-e6d63c31159e",
   "metadata": {},
   "outputs": [],
   "source": [
    "from sklearn.preprocessing import StandardScaler #Scales the data"
   ]
  },
  {
   "cell_type": "code",
   "execution_count": 22,
   "id": "f2cc3826-52ab-4335-a183-14aef1b157d5",
   "metadata": {},
   "outputs": [],
   "source": [
    "scaler = StandardScaler() \n",
    "X = scaler.fit_transform(X) # Both fit and transform at the same time we could do this after spliting of test and training sets "
   ]
  },
  {
   "cell_type": "code",
   "execution_count": 24,
   "id": "c9afe821-1408-48b1-9490-337ba0ebf729",
   "metadata": {},
   "outputs": [],
   "source": [
    "from sklearn.model_selection import train_test_split"
   ]
  },
  {
   "cell_type": "code",
   "execution_count": 25,
   "id": "98eae9ba-acd2-40d4-938d-51a639ff3ae3",
   "metadata": {},
   "outputs": [],
   "source": [
    "X_train, X_test, y_train, y_test = train_test_split(X, y, test_size=0.2)"
   ]
  },
  {
   "cell_type": "code",
   "execution_count": 27,
   "id": "ca8148a9-4ec2-49bf-9617-66112b22be4f",
   "metadata": {},
   "outputs": [
    {
     "data": {
      "text/plain": [
       "(800, 5)"
      ]
     },
     "execution_count": 27,
     "metadata": {},
     "output_type": "execute_result"
    }
   ],
   "source": [
    "X_train.shape"
   ]
  },
  {
   "cell_type": "code",
   "execution_count": 26,
   "id": "a2c4c880-3f08-42bd-a979-37f0d7b7188c",
   "metadata": {},
   "outputs": [
    {
     "data": {
      "text/plain": [
       "(800,)"
      ]
     },
     "execution_count": 26,
     "metadata": {},
     "output_type": "execute_result"
    }
   ],
   "source": [
    "y_train.shape"
   ]
  },
  {
   "cell_type": "code",
   "execution_count": 29,
   "id": "3b27ccb9-e85b-4e8d-91dc-e74404e4fc2d",
   "metadata": {},
   "outputs": [
    {
     "name": "stderr",
     "output_type": "stream",
     "text": [
      "2025-01-23 11:45:17.097897: I external/local_xla/xla/tsl/cuda/cudart_stub.cc:32] Could not find cuda drivers on your machine, GPU will not be used.\n",
      "2025-01-23 11:45:17.100846: I external/local_xla/xla/tsl/cuda/cudart_stub.cc:32] Could not find cuda drivers on your machine, GPU will not be used.\n",
      "2025-01-23 11:45:17.110007: E external/local_xla/xla/stream_executor/cuda/cuda_fft.cc:477] Unable to register cuFFT factory: Attempting to register factory for plugin cuFFT when one has already been registered\n",
      "WARNING: All log messages before absl::InitializeLog() is called are written to STDERR\n",
      "E0000 00:00:1737620117.124849    7066 cuda_dnn.cc:8310] Unable to register cuDNN factory: Attempting to register factory for plugin cuDNN when one has already been registered\n",
      "E0000 00:00:1737620117.129266    7066 cuda_blas.cc:1418] Unable to register cuBLAS factory: Attempting to register factory for plugin cuBLAS when one has already been registered\n",
      "2025-01-23 11:45:17.144336: I tensorflow/core/platform/cpu_feature_guard.cc:210] This TensorFlow binary is optimized to use available CPU instructions in performance-critical operations.\n",
      "To enable the following instructions: AVX2 FMA, in other operations, rebuild TensorFlow with the appropriate compiler flags.\n"
     ]
    }
   ],
   "source": [
    "import tensorflow as tf"
   ]
  },
  {
   "cell_type": "code",
   "execution_count": 39,
   "id": "1cdb1b4c-2a3f-4f60-becb-510cae97268b",
   "metadata": {},
   "outputs": [],
   "source": [
    "model = tf.keras.models.Sequential(\n",
    "    [   \n",
    "        tf.keras.layers.Input(shape = (5, )), # Input layer\n",
    "        tf.keras.layers.Dense(units = 16, activation = 'relu'), # Fully connted units -> neural number\n",
    "        tf.keras.layers.Dense(units = 16, activation = 'relu'),\n",
    "        tf.keras.layers.Dense(units = 1, activation = 'linear'), # Output layer\n",
    "    ]\n",
    ")"
   ]
  },
  {
   "cell_type": "code",
   "execution_count": 40,
   "id": "0b373994-fbf8-414b-9ab5-a30612ad48fa",
   "metadata": {},
   "outputs": [
    {
     "data": {
      "text/html": [
       "<pre style=\"white-space:pre;overflow-x:auto;line-height:normal;font-family:Menlo,'DejaVu Sans Mono',consolas,'Courier New',monospace\"><span style=\"font-weight: bold\">Model: \"sequential_3\"</span>\n",
       "</pre>\n"
      ],
      "text/plain": [
       "\u001b[1mModel: \"sequential_3\"\u001b[0m\n"
      ]
     },
     "metadata": {},
     "output_type": "display_data"
    },
    {
     "data": {
      "text/html": [
       "<pre style=\"white-space:pre;overflow-x:auto;line-height:normal;font-family:Menlo,'DejaVu Sans Mono',consolas,'Courier New',monospace\">┏━━━━━━━━━━━━━━━━━━━━━━━━━━━━━━━━━┳━━━━━━━━━━━━━━━━━━━━━━━━┳━━━━━━━━━━━━━━━┓\n",
       "┃<span style=\"font-weight: bold\"> Layer (type)                    </span>┃<span style=\"font-weight: bold\"> Output Shape           </span>┃<span style=\"font-weight: bold\">       Param # </span>┃\n",
       "┡━━━━━━━━━━━━━━━━━━━━━━━━━━━━━━━━━╇━━━━━━━━━━━━━━━━━━━━━━━━╇━━━━━━━━━━━━━━━┩\n",
       "│ dense_5 (<span style=\"color: #0087ff; text-decoration-color: #0087ff\">Dense</span>)                 │ (<span style=\"color: #00d7ff; text-decoration-color: #00d7ff\">None</span>, <span style=\"color: #00af00; text-decoration-color: #00af00\">16</span>)             │            <span style=\"color: #00af00; text-decoration-color: #00af00\">96</span> │\n",
       "├─────────────────────────────────┼────────────────────────┼───────────────┤\n",
       "│ dense_6 (<span style=\"color: #0087ff; text-decoration-color: #0087ff\">Dense</span>)                 │ (<span style=\"color: #00d7ff; text-decoration-color: #00d7ff\">None</span>, <span style=\"color: #00af00; text-decoration-color: #00af00\">16</span>)             │           <span style=\"color: #00af00; text-decoration-color: #00af00\">272</span> │\n",
       "├─────────────────────────────────┼────────────────────────┼───────────────┤\n",
       "│ dense_7 (<span style=\"color: #0087ff; text-decoration-color: #0087ff\">Dense</span>)                 │ (<span style=\"color: #00d7ff; text-decoration-color: #00d7ff\">None</span>, <span style=\"color: #00af00; text-decoration-color: #00af00\">1</span>)              │            <span style=\"color: #00af00; text-decoration-color: #00af00\">17</span> │\n",
       "└─────────────────────────────────┴────────────────────────┴───────────────┘\n",
       "</pre>\n"
      ],
      "text/plain": [
       "┏━━━━━━━━━━━━━━━━━━━━━━━━━━━━━━━━━┳━━━━━━━━━━━━━━━━━━━━━━━━┳━━━━━━━━━━━━━━━┓\n",
       "┃\u001b[1m \u001b[0m\u001b[1mLayer (type)                   \u001b[0m\u001b[1m \u001b[0m┃\u001b[1m \u001b[0m\u001b[1mOutput Shape          \u001b[0m\u001b[1m \u001b[0m┃\u001b[1m \u001b[0m\u001b[1m      Param #\u001b[0m\u001b[1m \u001b[0m┃\n",
       "┡━━━━━━━━━━━━━━━━━━━━━━━━━━━━━━━━━╇━━━━━━━━━━━━━━━━━━━━━━━━╇━━━━━━━━━━━━━━━┩\n",
       "│ dense_5 (\u001b[38;5;33mDense\u001b[0m)                 │ (\u001b[38;5;45mNone\u001b[0m, \u001b[38;5;34m16\u001b[0m)             │            \u001b[38;5;34m96\u001b[0m │\n",
       "├─────────────────────────────────┼────────────────────────┼───────────────┤\n",
       "│ dense_6 (\u001b[38;5;33mDense\u001b[0m)                 │ (\u001b[38;5;45mNone\u001b[0m, \u001b[38;5;34m16\u001b[0m)             │           \u001b[38;5;34m272\u001b[0m │\n",
       "├─────────────────────────────────┼────────────────────────┼───────────────┤\n",
       "│ dense_7 (\u001b[38;5;33mDense\u001b[0m)                 │ (\u001b[38;5;45mNone\u001b[0m, \u001b[38;5;34m1\u001b[0m)              │            \u001b[38;5;34m17\u001b[0m │\n",
       "└─────────────────────────────────┴────────────────────────┴───────────────┘\n"
      ]
     },
     "metadata": {},
     "output_type": "display_data"
    },
    {
     "data": {
      "text/html": [
       "<pre style=\"white-space:pre;overflow-x:auto;line-height:normal;font-family:Menlo,'DejaVu Sans Mono',consolas,'Courier New',monospace\"><span style=\"font-weight: bold\"> Total params: </span><span style=\"color: #00af00; text-decoration-color: #00af00\">385</span> (1.50 KB)\n",
       "</pre>\n"
      ],
      "text/plain": [
       "\u001b[1m Total params: \u001b[0m\u001b[38;5;34m385\u001b[0m (1.50 KB)\n"
      ]
     },
     "metadata": {},
     "output_type": "display_data"
    },
    {
     "data": {
      "text/html": [
       "<pre style=\"white-space:pre;overflow-x:auto;line-height:normal;font-family:Menlo,'DejaVu Sans Mono',consolas,'Courier New',monospace\"><span style=\"font-weight: bold\"> Trainable params: </span><span style=\"color: #00af00; text-decoration-color: #00af00\">385</span> (1.50 KB)\n",
       "</pre>\n"
      ],
      "text/plain": [
       "\u001b[1m Trainable params: \u001b[0m\u001b[38;5;34m385\u001b[0m (1.50 KB)\n"
      ]
     },
     "metadata": {},
     "output_type": "display_data"
    },
    {
     "data": {
      "text/html": [
       "<pre style=\"white-space:pre;overflow-x:auto;line-height:normal;font-family:Menlo,'DejaVu Sans Mono',consolas,'Courier New',monospace\"><span style=\"font-weight: bold\"> Non-trainable params: </span><span style=\"color: #00af00; text-decoration-color: #00af00\">0</span> (0.00 B)\n",
       "</pre>\n"
      ],
      "text/plain": [
       "\u001b[1m Non-trainable params: \u001b[0m\u001b[38;5;34m0\u001b[0m (0.00 B)\n"
      ]
     },
     "metadata": {},
     "output_type": "display_data"
    }
   ],
   "source": [
    "model.summary()"
   ]
  },
  {
   "cell_type": "code",
   "execution_count": 46,
   "id": "88e1922e-9762-4a34-94fc-16eba0626e24",
   "metadata": {},
   "outputs": [],
   "source": [
    "model = tf.keras.Sequential()\n",
    "model.add(tf.keras.layers.Input(shape = (5, )))\n",
    "model.add(tf.keras.layers.Dense(units = 16, activation = 'relu'))\n",
    "model.add(tf.keras.layers.Dense(units = 16, activation = 'relu'))\n",
    "model.add(tf.keras.layers.Dense(units = 1, activation = 'linear'))"
   ]
  },
  {
   "cell_type": "code",
   "execution_count": 47,
   "id": "c93cee55-c2ad-4dff-a5a3-945e9cf2efb0",
   "metadata": {},
   "outputs": [
    {
     "data": {
      "text/html": [
       "<pre style=\"white-space:pre;overflow-x:auto;line-height:normal;font-family:Menlo,'DejaVu Sans Mono',consolas,'Courier New',monospace\"><span style=\"font-weight: bold\">Model: \"sequential_6\"</span>\n",
       "</pre>\n"
      ],
      "text/plain": [
       "\u001b[1mModel: \"sequential_6\"\u001b[0m\n"
      ]
     },
     "metadata": {},
     "output_type": "display_data"
    },
    {
     "data": {
      "text/html": [
       "<pre style=\"white-space:pre;overflow-x:auto;line-height:normal;font-family:Menlo,'DejaVu Sans Mono',consolas,'Courier New',monospace\">┏━━━━━━━━━━━━━━━━━━━━━━━━━━━━━━━━━┳━━━━━━━━━━━━━━━━━━━━━━━━┳━━━━━━━━━━━━━━━┓\n",
       "┃<span style=\"font-weight: bold\"> Layer (type)                    </span>┃<span style=\"font-weight: bold\"> Output Shape           </span>┃<span style=\"font-weight: bold\">       Param # </span>┃\n",
       "┡━━━━━━━━━━━━━━━━━━━━━━━━━━━━━━━━━╇━━━━━━━━━━━━━━━━━━━━━━━━╇━━━━━━━━━━━━━━━┩\n",
       "│ dense_11 (<span style=\"color: #0087ff; text-decoration-color: #0087ff\">Dense</span>)                │ (<span style=\"color: #00d7ff; text-decoration-color: #00d7ff\">None</span>, <span style=\"color: #00af00; text-decoration-color: #00af00\">16</span>)             │            <span style=\"color: #00af00; text-decoration-color: #00af00\">96</span> │\n",
       "├─────────────────────────────────┼────────────────────────┼───────────────┤\n",
       "│ dense_12 (<span style=\"color: #0087ff; text-decoration-color: #0087ff\">Dense</span>)                │ (<span style=\"color: #00d7ff; text-decoration-color: #00d7ff\">None</span>, <span style=\"color: #00af00; text-decoration-color: #00af00\">16</span>)             │           <span style=\"color: #00af00; text-decoration-color: #00af00\">272</span> │\n",
       "├─────────────────────────────────┼────────────────────────┼───────────────┤\n",
       "│ dense_13 (<span style=\"color: #0087ff; text-decoration-color: #0087ff\">Dense</span>)                │ (<span style=\"color: #00d7ff; text-decoration-color: #00d7ff\">None</span>, <span style=\"color: #00af00; text-decoration-color: #00af00\">1</span>)              │            <span style=\"color: #00af00; text-decoration-color: #00af00\">17</span> │\n",
       "└─────────────────────────────────┴────────────────────────┴───────────────┘\n",
       "</pre>\n"
      ],
      "text/plain": [
       "┏━━━━━━━━━━━━━━━━━━━━━━━━━━━━━━━━━┳━━━━━━━━━━━━━━━━━━━━━━━━┳━━━━━━━━━━━━━━━┓\n",
       "┃\u001b[1m \u001b[0m\u001b[1mLayer (type)                   \u001b[0m\u001b[1m \u001b[0m┃\u001b[1m \u001b[0m\u001b[1mOutput Shape          \u001b[0m\u001b[1m \u001b[0m┃\u001b[1m \u001b[0m\u001b[1m      Param #\u001b[0m\u001b[1m \u001b[0m┃\n",
       "┡━━━━━━━━━━━━━━━━━━━━━━━━━━━━━━━━━╇━━━━━━━━━━━━━━━━━━━━━━━━╇━━━━━━━━━━━━━━━┩\n",
       "│ dense_11 (\u001b[38;5;33mDense\u001b[0m)                │ (\u001b[38;5;45mNone\u001b[0m, \u001b[38;5;34m16\u001b[0m)             │            \u001b[38;5;34m96\u001b[0m │\n",
       "├─────────────────────────────────┼────────────────────────┼───────────────┤\n",
       "│ dense_12 (\u001b[38;5;33mDense\u001b[0m)                │ (\u001b[38;5;45mNone\u001b[0m, \u001b[38;5;34m16\u001b[0m)             │           \u001b[38;5;34m272\u001b[0m │\n",
       "├─────────────────────────────────┼────────────────────────┼───────────────┤\n",
       "│ dense_13 (\u001b[38;5;33mDense\u001b[0m)                │ (\u001b[38;5;45mNone\u001b[0m, \u001b[38;5;34m1\u001b[0m)              │            \u001b[38;5;34m17\u001b[0m │\n",
       "└─────────────────────────────────┴────────────────────────┴───────────────┘\n"
      ]
     },
     "metadata": {},
     "output_type": "display_data"
    },
    {
     "data": {
      "text/html": [
       "<pre style=\"white-space:pre;overflow-x:auto;line-height:normal;font-family:Menlo,'DejaVu Sans Mono',consolas,'Courier New',monospace\"><span style=\"font-weight: bold\"> Total params: </span><span style=\"color: #00af00; text-decoration-color: #00af00\">385</span> (1.50 KB)\n",
       "</pre>\n"
      ],
      "text/plain": [
       "\u001b[1m Total params: \u001b[0m\u001b[38;5;34m385\u001b[0m (1.50 KB)\n"
      ]
     },
     "metadata": {},
     "output_type": "display_data"
    },
    {
     "data": {
      "text/html": [
       "<pre style=\"white-space:pre;overflow-x:auto;line-height:normal;font-family:Menlo,'DejaVu Sans Mono',consolas,'Courier New',monospace\"><span style=\"font-weight: bold\"> Trainable params: </span><span style=\"color: #00af00; text-decoration-color: #00af00\">385</span> (1.50 KB)\n",
       "</pre>\n"
      ],
      "text/plain": [
       "\u001b[1m Trainable params: \u001b[0m\u001b[38;5;34m385\u001b[0m (1.50 KB)\n"
      ]
     },
     "metadata": {},
     "output_type": "display_data"
    },
    {
     "data": {
      "text/html": [
       "<pre style=\"white-space:pre;overflow-x:auto;line-height:normal;font-family:Menlo,'DejaVu Sans Mono',consolas,'Courier New',monospace\"><span style=\"font-weight: bold\"> Non-trainable params: </span><span style=\"color: #00af00; text-decoration-color: #00af00\">0</span> (0.00 B)\n",
       "</pre>\n"
      ],
      "text/plain": [
       "\u001b[1m Non-trainable params: \u001b[0m\u001b[38;5;34m0\u001b[0m (0.00 B)\n"
      ]
     },
     "metadata": {},
     "output_type": "display_data"
    }
   ],
   "source": [
    "model.summary()"
   ]
  },
  {
   "cell_type": "code",
   "execution_count": 48,
   "id": "2b8b36a9-d5c5-46cd-967b-0839b2ec41e0",
   "metadata": {},
   "outputs": [],
   "source": [
    "#ALSO CAN USE: from tensorflow.keras.layers import Desnse, Dropout"
   ]
  },
  {
   "cell_type": "code",
   "execution_count": 57,
   "id": "e167b3df-0142-4530-bcc8-d95768e09c4a",
   "metadata": {},
   "outputs": [],
   "source": [
    "loss= tf.losses.MeanSquaredError()\n",
    "opt = tf.optimizers.Adam()\n",
    "model.compile(loss = loss, optimizer = opt) "
   ]
  },
  {
   "cell_type": "code",
   "execution_count": 65,
   "id": "2912f3b7-0d1d-4ea3-8721-09f283739467",
   "metadata": {},
   "outputs": [
    {
     "name": "stdout",
     "output_type": "stream",
     "text": [
      "Epoch 1/100\n",
      "15/15 - 0s - 7ms/step - loss: 0.0454 - val_loss: 0.0562\n",
      "Epoch 2/100\n",
      "15/15 - 0s - 5ms/step - loss: 0.0454 - val_loss: 0.0737\n",
      "Epoch 3/100\n",
      "15/15 - 0s - 5ms/step - loss: 0.0486 - val_loss: 0.0532\n",
      "Epoch 4/100\n",
      "15/15 - 0s - 5ms/step - loss: 0.0499 - val_loss: 0.0571\n",
      "Epoch 5/100\n",
      "15/15 - 0s - 5ms/step - loss: 0.0531 - val_loss: 0.0566\n",
      "Epoch 6/100\n",
      "15/15 - 0s - 5ms/step - loss: 0.0460 - val_loss: 0.0583\n",
      "Epoch 7/100\n",
      "15/15 - 0s - 5ms/step - loss: 0.0452 - val_loss: 0.0538\n",
      "Epoch 8/100\n",
      "15/15 - 0s - 5ms/step - loss: 0.0468 - val_loss: 0.0471\n",
      "Epoch 9/100\n",
      "15/15 - 0s - 5ms/step - loss: 0.0499 - val_loss: 0.0523\n",
      "Epoch 10/100\n",
      "15/15 - 0s - 5ms/step - loss: 0.0571 - val_loss: 0.0564\n",
      "Epoch 11/100\n",
      "15/15 - 0s - 5ms/step - loss: 0.0473 - val_loss: 0.0543\n",
      "Epoch 12/100\n",
      "15/15 - 0s - 5ms/step - loss: 0.0460 - val_loss: 0.0671\n",
      "Epoch 13/100\n",
      "15/15 - 0s - 5ms/step - loss: 0.0471 - val_loss: 0.0574\n",
      "Epoch 14/100\n",
      "15/15 - 0s - 5ms/step - loss: 0.0472 - val_loss: 0.0555\n",
      "Epoch 15/100\n",
      "15/15 - 0s - 5ms/step - loss: 0.0522 - val_loss: 0.0595\n",
      "Epoch 16/100\n",
      "15/15 - 0s - 5ms/step - loss: 0.0553 - val_loss: 0.0629\n",
      "Epoch 17/100\n",
      "15/15 - 0s - 5ms/step - loss: 0.0559 - val_loss: 0.0550\n",
      "Epoch 18/100\n",
      "15/15 - 0s - 7ms/step - loss: 0.0474 - val_loss: 0.0509\n",
      "Epoch 19/100\n",
      "15/15 - 0s - 5ms/step - loss: 0.0466 - val_loss: 0.0527\n",
      "Epoch 20/100\n",
      "15/15 - 0s - 5ms/step - loss: 0.0447 - val_loss: 0.0650\n",
      "Epoch 21/100\n",
      "15/15 - 0s - 5ms/step - loss: 0.0478 - val_loss: 0.0533\n",
      "Epoch 22/100\n",
      "15/15 - 0s - 5ms/step - loss: 0.0440 - val_loss: 0.0576\n",
      "Epoch 23/100\n",
      "15/15 - 0s - 5ms/step - loss: 0.0460 - val_loss: 0.0523\n",
      "Epoch 24/100\n",
      "15/15 - 0s - 5ms/step - loss: 0.0438 - val_loss: 0.0504\n",
      "Epoch 25/100\n",
      "15/15 - 0s - 4ms/step - loss: 0.0429 - val_loss: 0.0555\n",
      "Epoch 26/100\n",
      "15/15 - 0s - 5ms/step - loss: 0.0446 - val_loss: 0.0540\n",
      "Epoch 27/100\n",
      "15/15 - 0s - 5ms/step - loss: 0.0452 - val_loss: 0.0568\n",
      "Epoch 28/100\n",
      "15/15 - 0s - 4ms/step - loss: 0.0476 - val_loss: 0.0644\n",
      "Epoch 29/100\n",
      "15/15 - 0s - 5ms/step - loss: 0.0563 - val_loss: 0.0597\n",
      "Epoch 30/100\n",
      "15/15 - 0s - 5ms/step - loss: 0.0534 - val_loss: 0.0496\n",
      "Epoch 31/100\n",
      "15/15 - 0s - 5ms/step - loss: 0.0460 - val_loss: 0.0531\n",
      "Epoch 32/100\n",
      "15/15 - 0s - 5ms/step - loss: 0.0488 - val_loss: 0.0669\n",
      "Epoch 33/100\n",
      "15/15 - 0s - 5ms/step - loss: 0.0490 - val_loss: 0.0538\n",
      "Epoch 34/100\n",
      "15/15 - 0s - 5ms/step - loss: 0.0453 - val_loss: 0.0549\n",
      "Epoch 35/100\n",
      "15/15 - 0s - 5ms/step - loss: 0.0442 - val_loss: 0.0571\n",
      "Epoch 36/100\n",
      "15/15 - 0s - 5ms/step - loss: 0.0451 - val_loss: 0.0554\n",
      "Epoch 37/100\n",
      "15/15 - 0s - 5ms/step - loss: 0.0496 - val_loss: 0.0509\n",
      "Epoch 38/100\n",
      "15/15 - 0s - 5ms/step - loss: 0.0465 - val_loss: 0.0510\n",
      "Epoch 39/100\n",
      "15/15 - 0s - 5ms/step - loss: 0.0454 - val_loss: 0.0514\n",
      "Epoch 40/100\n",
      "15/15 - 0s - 5ms/step - loss: 0.0443 - val_loss: 0.0545\n",
      "Epoch 41/100\n",
      "15/15 - 0s - 5ms/step - loss: 0.0531 - val_loss: 0.0674\n",
      "Epoch 42/100\n",
      "15/15 - 0s - 5ms/step - loss: 0.0487 - val_loss: 0.0506\n",
      "Epoch 43/100\n",
      "15/15 - 0s - 5ms/step - loss: 0.0420 - val_loss: 0.0615\n",
      "Epoch 44/100\n",
      "15/15 - 0s - 5ms/step - loss: 0.0515 - val_loss: 0.0897\n",
      "Epoch 45/100\n",
      "15/15 - 0s - 5ms/step - loss: 0.0539 - val_loss: 0.0539\n",
      "Epoch 46/100\n",
      "15/15 - 0s - 5ms/step - loss: 0.0480 - val_loss: 0.0502\n",
      "Epoch 47/100\n",
      "15/15 - 0s - 5ms/step - loss: 0.0454 - val_loss: 0.0543\n",
      "Epoch 48/100\n",
      "15/15 - 0s - 5ms/step - loss: 0.0563 - val_loss: 0.0746\n",
      "Epoch 49/100\n",
      "15/15 - 0s - 5ms/step - loss: 0.0549 - val_loss: 0.0479\n",
      "Epoch 50/100\n",
      "15/15 - 0s - 5ms/step - loss: 0.0443 - val_loss: 0.0613\n",
      "Epoch 51/100\n",
      "15/15 - 0s - 5ms/step - loss: 0.0461 - val_loss: 0.0520\n",
      "Epoch 52/100\n",
      "15/15 - 0s - 5ms/step - loss: 0.0475 - val_loss: 0.0577\n",
      "Epoch 53/100\n",
      "15/15 - 0s - 5ms/step - loss: 0.0440 - val_loss: 0.0493\n",
      "Epoch 54/100\n",
      "15/15 - 0s - 5ms/step - loss: 0.0440 - val_loss: 0.0557\n",
      "Epoch 55/100\n",
      "15/15 - 0s - 5ms/step - loss: 0.0479 - val_loss: 0.0557\n",
      "Epoch 56/100\n",
      "15/15 - 0s - 5ms/step - loss: 0.0448 - val_loss: 0.0524\n",
      "Epoch 57/100\n",
      "15/15 - 0s - 5ms/step - loss: 0.0496 - val_loss: 0.0601\n",
      "Epoch 58/100\n",
      "15/15 - 0s - 5ms/step - loss: 0.0501 - val_loss: 0.0630\n",
      "Epoch 59/100\n",
      "15/15 - 0s - 5ms/step - loss: 0.0474 - val_loss: 0.0534\n",
      "Epoch 60/100\n",
      "15/15 - 0s - 5ms/step - loss: 0.0431 - val_loss: 0.0515\n",
      "Epoch 61/100\n",
      "15/15 - 0s - 5ms/step - loss: 0.0465 - val_loss: 0.0621\n",
      "Epoch 62/100\n",
      "15/15 - 0s - 5ms/step - loss: 0.0530 - val_loss: 0.0738\n",
      "Epoch 63/100\n",
      "15/15 - 0s - 5ms/step - loss: 0.0523 - val_loss: 0.0564\n",
      "Epoch 64/100\n",
      "15/15 - 0s - 4ms/step - loss: 0.0510 - val_loss: 0.0488\n",
      "Epoch 65/100\n",
      "15/15 - 0s - 5ms/step - loss: 0.0445 - val_loss: 0.0649\n",
      "Epoch 66/100\n",
      "15/15 - 0s - 5ms/step - loss: 0.0558 - val_loss: 0.0590\n",
      "Epoch 67/100\n",
      "15/15 - 0s - 4ms/step - loss: 0.0530 - val_loss: 0.0569\n",
      "Epoch 68/100\n",
      "15/15 - 0s - 5ms/step - loss: 0.0442 - val_loss: 0.0500\n",
      "Epoch 69/100\n",
      "15/15 - 0s - 5ms/step - loss: 0.0443 - val_loss: 0.0537\n",
      "Epoch 70/100\n",
      "15/15 - 0s - 5ms/step - loss: 0.0471 - val_loss: 0.0680\n",
      "Epoch 71/100\n",
      "15/15 - 0s - 4ms/step - loss: 0.0479 - val_loss: 0.0538\n",
      "Epoch 72/100\n",
      "15/15 - 0s - 4ms/step - loss: 0.0495 - val_loss: 0.0671\n",
      "Epoch 73/100\n",
      "15/15 - 0s - 4ms/step - loss: 0.0534 - val_loss: 0.0531\n",
      "Epoch 74/100\n",
      "15/15 - 0s - 4ms/step - loss: 0.0475 - val_loss: 0.0551\n",
      "Epoch 75/100\n",
      "15/15 - 0s - 5ms/step - loss: 0.0450 - val_loss: 0.0516\n",
      "Epoch 76/100\n",
      "15/15 - 0s - 5ms/step - loss: 0.0435 - val_loss: 0.0536\n",
      "Epoch 77/100\n",
      "15/15 - 0s - 4ms/step - loss: 0.0447 - val_loss: 0.0527\n",
      "Epoch 78/100\n",
      "15/15 - 0s - 5ms/step - loss: 0.0443 - val_loss: 0.0621\n",
      "Epoch 79/100\n",
      "15/15 - 0s - 4ms/step - loss: 0.0500 - val_loss: 0.0542\n",
      "Epoch 80/100\n",
      "15/15 - 0s - 4ms/step - loss: 0.0433 - val_loss: 0.0571\n",
      "Epoch 81/100\n",
      "15/15 - 0s - 4ms/step - loss: 0.0452 - val_loss: 0.0509\n",
      "Epoch 82/100\n",
      "15/15 - 0s - 4ms/step - loss: 0.0466 - val_loss: 0.0550\n",
      "Epoch 83/100\n",
      "15/15 - 0s - 5ms/step - loss: 0.0465 - val_loss: 0.0591\n",
      "Epoch 84/100\n",
      "15/15 - 0s - 4ms/step - loss: 0.0443 - val_loss: 0.0475\n",
      "Epoch 85/100\n",
      "15/15 - 0s - 5ms/step - loss: 0.0453 - val_loss: 0.0582\n",
      "Epoch 86/100\n",
      "15/15 - 0s - 4ms/step - loss: 0.0499 - val_loss: 0.0533\n",
      "Epoch 87/100\n",
      "15/15 - 0s - 5ms/step - loss: 0.0506 - val_loss: 0.0616\n",
      "Epoch 88/100\n",
      "15/15 - 0s - 4ms/step - loss: 0.0480 - val_loss: 0.0511\n",
      "Epoch 89/100\n",
      "15/15 - 0s - 5ms/step - loss: 0.0447 - val_loss: 0.0548\n",
      "Epoch 90/100\n",
      "15/15 - 0s - 7ms/step - loss: 0.0496 - val_loss: 0.0472\n",
      "Epoch 91/100\n",
      "15/15 - 0s - 5ms/step - loss: 0.0453 - val_loss: 0.0543\n",
      "Epoch 92/100\n",
      "15/15 - 0s - 5ms/step - loss: 0.0426 - val_loss: 0.0525\n",
      "Epoch 93/100\n",
      "15/15 - 0s - 5ms/step - loss: 0.0438 - val_loss: 0.0593\n",
      "Epoch 94/100\n",
      "15/15 - 0s - 5ms/step - loss: 0.0463 - val_loss: 0.0599\n",
      "Epoch 95/100\n",
      "15/15 - 0s - 5ms/step - loss: 0.0500 - val_loss: 0.0596\n",
      "Epoch 96/100\n",
      "15/15 - 0s - 5ms/step - loss: 0.0477 - val_loss: 0.0532\n",
      "Epoch 97/100\n",
      "15/15 - 0s - 5ms/step - loss: 0.0443 - val_loss: 0.0599\n",
      "Epoch 98/100\n",
      "15/15 - 0s - 5ms/step - loss: 0.0521 - val_loss: 0.0576\n",
      "Epoch 99/100\n",
      "15/15 - 0s - 5ms/step - loss: 0.0470 - val_loss: 0.0557\n",
      "Epoch 100/100\n",
      "15/15 - 0s - 5ms/step - loss: 0.0539 - val_loss: 0.0545\n"
     ]
    },
    {
     "data": {
      "text/plain": [
       "<keras.src.callbacks.history.History at 0x7ff92c774f70>"
      ]
     },
     "execution_count": 65,
     "metadata": {},
     "output_type": "execute_result"
    }
   ],
   "source": [
    "model.fit(X_train, y_train, validation_split = 0.1, epochs = 100, batch_size = 50, verbose = 2) \n",
    "# epoches how many times uses loss for the data and optimizer"
   ]
  },
  {
   "cell_type": "code",
   "execution_count": 66,
   "id": "fce52d18-646c-4bb5-9a0a-694f47e0e6b1",
   "metadata": {},
   "outputs": [
    {
     "name": "stdout",
     "output_type": "stream",
     "text": [
      "\u001b[1m25/25\u001b[0m \u001b[32m━━━━━━━━━━━━━━━━━━━━\u001b[0m\u001b[37m\u001b[0m \u001b[1m0s\u001b[0m 1ms/step - loss: 0.0444 \n"
     ]
    },
    {
     "data": {
      "text/plain": [
       "0.04631665721535683"
      ]
     },
     "execution_count": 66,
     "metadata": {},
     "output_type": "execute_result"
    }
   ],
   "source": [
    "model.evaluate(X_train, y_train)"
   ]
  },
  {
   "cell_type": "code",
   "execution_count": 67,
   "id": "acac04d5-b82e-40ba-9f85-687cea302aa0",
   "metadata": {},
   "outputs": [
    {
     "name": "stdout",
     "output_type": "stream",
     "text": [
      "\u001b[1m7/7\u001b[0m \u001b[32m━━━━━━━━━━━━━━━━━━━━\u001b[0m\u001b[37m\u001b[0m \u001b[1m0s\u001b[0m 4ms/step - loss: 0.0791 \n"
     ]
    },
    {
     "data": {
      "text/plain": [
       "0.0694119855761528"
      ]
     },
     "execution_count": 67,
     "metadata": {},
     "output_type": "execute_result"
    }
   ],
   "source": [
    "model.evaluate(X_test, y_test)"
   ]
  },
  {
   "cell_type": "code",
   "execution_count": 68,
   "id": "b041541d-3567-4d54-a733-7b5ec29fd352",
   "metadata": {},
   "outputs": [
    {
     "name": "stdout",
     "output_type": "stream",
     "text": [
      "\u001b[1m7/7\u001b[0m \u001b[32m━━━━━━━━━━━━━━━━━━━━\u001b[0m\u001b[37m\u001b[0m \u001b[1m0s\u001b[0m 8ms/step \n"
     ]
    }
   ],
   "source": [
    "y_pred = model.predict(X_test)"
   ]
  },
  {
   "cell_type": "code",
   "execution_count": 69,
   "id": "85994b3b-4771-4bc2-8d39-c1fa9cbad3f8",
   "metadata": {},
   "outputs": [
    {
     "data": {
      "text/plain": [
       "(200, 1)"
      ]
     },
     "execution_count": 69,
     "metadata": {},
     "output_type": "execute_result"
    }
   ],
   "source": [
    "y_pred.shape "
   ]
  },
  {
   "cell_type": "code",
   "execution_count": 70,
   "id": "6aedc8dd-1d8d-4303-8cac-29530527c7c7",
   "metadata": {},
   "outputs": [
    {
     "data": {
      "text/plain": [
       "(200,)"
      ]
     },
     "execution_count": 70,
     "metadata": {},
     "output_type": "execute_result"
    }
   ],
   "source": [
    "y_test.shape"
   ]
  },
  {
   "cell_type": "code",
   "execution_count": 75,
   "id": "d522ceb7-dab0-4016-9de0-fa7667fb097d",
   "metadata": {},
   "outputs": [
    {
     "data": {
      "text/plain": [
       "<matplotlib.collections.PathCollection at 0x7ff92c324f10>"
      ]
     },
     "execution_count": 75,
     "metadata": {},
     "output_type": "execute_result"
    },
    {
     "data": {
      "image/png": "[encoded data removed]",
      "text/plain": [
       "<Figure size 640x480 with 1 Axes>"
      ]
     },
     "metadata": {},
     "output_type": "display_data"
    }
   ],
   "source": [
    "plt.scatter(y_test, range(200), color = 'blue')\n",
    "plt.scatter(y_pred, range(200), color = 'red')"
   ]
  },
  {
   "cell_type": "code",
   "execution_count": null,
   "id": "236a9991-1933-48c8-ad80-41f43fa621f0",
   "metadata": {},
   "outputs": [],
   "source": []
  }
 ],
 "metadata": {
  "kernelspec": {
   "display_name": "Python 3 (ipykernel)",
   "language": "python",
   "name": "python3"
  },
  "language_info": {
   "codemirror_mode": {
    "name": "ipython",
    "version": 3
   },
   "file_extension": ".py",
   "mimetype": "text/x-python",
   "name": "python",
   "nbconvert_exporter": "python",
   "pygments_lexer": "ipython3",
   "version": "3.10.12"
  }
 },
 "nbformat": 4,
 "nbformat_minor": 5
}
